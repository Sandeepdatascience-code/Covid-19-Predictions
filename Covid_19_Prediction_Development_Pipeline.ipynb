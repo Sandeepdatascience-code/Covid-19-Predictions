{
 "cells": [
  {
   "cell_type": "code",
   "execution_count": 1,
   "metadata": {},
   "outputs": [
    {
     "name": "stderr",
     "output_type": "stream",
     "text": [
      "C:\\Users\\ssvin\\anaconda3\\lib\\site-packages\\sklearn\\externals\\joblib\\__init__.py:15: FutureWarning: sklearn.externals.joblib is deprecated in 0.21 and will be removed in 0.23. Please import this functionality directly from joblib, which can be installed with: pip install joblib. If this warning is raised when loading pickled models, you may need to re-serialize those models with scikit-learn 0.21+.\n",
      "  warnings.warn(msg, category=FutureWarning)\n"
     ]
    }
   ],
   "source": [
    "#Importing the necessary libraries.\n",
    "import numpy as np\n",
    "import pandas as pd\n",
    "import datetime as dt\n",
    "from sklearn import preprocessing\n",
    "from sklearn.externals import joblib"
   ]
  },
  {
   "cell_type": "code",
   "execution_count": 2,
   "metadata": {},
   "outputs": [],
   "source": [
    "#Label Encoding method for the categorical data\n",
    "encoder = preprocessing.LabelEncoder()\n"
   ]
  },
  {
   "cell_type": "code",
   "execution_count": 3,
   "metadata": {},
   "outputs": [
    {
     "data": {
      "text/plain": [
       "['ModelEncoding_object.sav']"
      ]
     },
     "execution_count": 3,
     "metadata": {},
     "output_type": "execute_result"
    }
   ],
   "source": [
    "#Creating the production pipeline object\n",
    "encodefilename = \"ModelEncoding_object.sav\"\n",
    "joblib.dump(encoder,encodefilename)"
   ]
  },
  {
   "cell_type": "code",
   "execution_count": 4,
   "metadata": {},
   "outputs": [],
   "source": [
    "#Reading the data from the csv\n",
    "data = pd.read_csv('covid_data.csv')\n",
    "data = data.drop('id',axis=1)\n",
    "data = data.fillna(np.nan,axis=0)\n"
   ]
  },
  {
   "cell_type": "code",
   "execution_count": 5,
   "metadata": {},
   "outputs": [],
   "source": [
    "#Encoding the categorical data.\n",
    "data['location'] = encoder.fit_transform(data['location'].astype(str))\n",
    "data['country'] = encoder.fit_transform(data['country'].astype(str))\n",
    "data['gender'] = encoder.fit_transform(data['gender'].astype(str))\n",
    "data[['symptom1']] = encoder.fit_transform(data['symptom1'].astype(str))\n",
    "data[['symptom2']] = encoder.fit_transform(data['symptom2'].astype(str))\n",
    "data[['symptom3']] = encoder.fit_transform(data['symptom3'].astype(str))\n",
    "data[['symptom4']] = encoder.fit_transform(data['symptom4'].astype(str))\n",
    "data[['symptom5']] = encoder.fit_transform(data['symptom5'].astype(str))\n",
    "data[['symptom6']] = encoder.fit_transform(data['symptom6'].astype(str))"
   ]
  },
  {
   "cell_type": "code",
   "execution_count": 6,
   "metadata": {},
   "outputs": [
    {
     "data": {
      "text/html": [
       "<div>\n",
       "<style scoped>\n",
       "    .dataframe tbody tr th:only-of-type {\n",
       "        vertical-align: middle;\n",
       "    }\n",
       "\n",
       "    .dataframe tbody tr th {\n",
       "        vertical-align: top;\n",
       "    }\n",
       "\n",
       "    .dataframe thead th {\n",
       "        text-align: right;\n",
       "    }\n",
       "</style>\n",
       "<table border=\"1\" class=\"dataframe\">\n",
       "  <thead>\n",
       "    <tr style=\"text-align: right;\">\n",
       "      <th></th>\n",
       "      <th>location</th>\n",
       "      <th>country</th>\n",
       "      <th>gender</th>\n",
       "      <th>age</th>\n",
       "      <th>sym_on</th>\n",
       "      <th>hosp_vis</th>\n",
       "      <th>vis_wuhan</th>\n",
       "      <th>from_wuhan</th>\n",
       "      <th>death</th>\n",
       "      <th>recov</th>\n",
       "      <th>symptom1</th>\n",
       "      <th>symptom2</th>\n",
       "      <th>symptom3</th>\n",
       "      <th>symptom4</th>\n",
       "      <th>symptom5</th>\n",
       "      <th>symptom6</th>\n",
       "    </tr>\n",
       "  </thead>\n",
       "  <tbody>\n",
       "    <tr>\n",
       "      <th>0</th>\n",
       "      <td>74</td>\n",
       "      <td>3</td>\n",
       "      <td>1</td>\n",
       "      <td>66.0</td>\n",
       "      <td>01-03-2020</td>\n",
       "      <td>01-11-2020</td>\n",
       "      <td>1</td>\n",
       "      <td>0.0</td>\n",
       "      <td>1</td>\n",
       "      <td>0</td>\n",
       "      <td>14</td>\n",
       "      <td>30</td>\n",
       "      <td>22</td>\n",
       "      <td>12</td>\n",
       "      <td>3</td>\n",
       "      <td>1</td>\n",
       "    </tr>\n",
       "    <tr>\n",
       "      <th>1</th>\n",
       "      <td>71</td>\n",
       "      <td>3</td>\n",
       "      <td>0</td>\n",
       "      <td>56.0</td>\n",
       "      <td>1/15/2020</td>\n",
       "      <td>1/15/2020</td>\n",
       "      <td>0</td>\n",
       "      <td>1.0</td>\n",
       "      <td>1</td>\n",
       "      <td>0</td>\n",
       "      <td>14</td>\n",
       "      <td>30</td>\n",
       "      <td>22</td>\n",
       "      <td>12</td>\n",
       "      <td>3</td>\n",
       "      <td>1</td>\n",
       "    </tr>\n",
       "    <tr>\n",
       "      <th>2</th>\n",
       "      <td>98</td>\n",
       "      <td>3</td>\n",
       "      <td>1</td>\n",
       "      <td>46.0</td>\n",
       "      <td>01-04-2020</td>\n",
       "      <td>1/17/2020</td>\n",
       "      <td>0</td>\n",
       "      <td>1.0</td>\n",
       "      <td>1</td>\n",
       "      <td>0</td>\n",
       "      <td>14</td>\n",
       "      <td>30</td>\n",
       "      <td>22</td>\n",
       "      <td>12</td>\n",
       "      <td>3</td>\n",
       "      <td>1</td>\n",
       "    </tr>\n",
       "    <tr>\n",
       "      <th>3</th>\n",
       "      <td>85</td>\n",
       "      <td>3</td>\n",
       "      <td>0</td>\n",
       "      <td>60.0</td>\n",
       "      <td>NaN</td>\n",
       "      <td>NaN</td>\n",
       "      <td>1</td>\n",
       "      <td>0.0</td>\n",
       "      <td>1</td>\n",
       "      <td>0</td>\n",
       "      <td>14</td>\n",
       "      <td>30</td>\n",
       "      <td>22</td>\n",
       "      <td>12</td>\n",
       "      <td>3</td>\n",
       "      <td>1</td>\n",
       "    </tr>\n",
       "    <tr>\n",
       "      <th>4</th>\n",
       "      <td>85</td>\n",
       "      <td>3</td>\n",
       "      <td>1</td>\n",
       "      <td>58.0</td>\n",
       "      <td>NaN</td>\n",
       "      <td>NaN</td>\n",
       "      <td>0</td>\n",
       "      <td>0.0</td>\n",
       "      <td>1</td>\n",
       "      <td>0</td>\n",
       "      <td>14</td>\n",
       "      <td>30</td>\n",
       "      <td>22</td>\n",
       "      <td>12</td>\n",
       "      <td>3</td>\n",
       "      <td>1</td>\n",
       "    </tr>\n",
       "    <tr>\n",
       "      <th>...</th>\n",
       "      <td>...</td>\n",
       "      <td>...</td>\n",
       "      <td>...</td>\n",
       "      <td>...</td>\n",
       "      <td>...</td>\n",
       "      <td>...</td>\n",
       "      <td>...</td>\n",
       "      <td>...</td>\n",
       "      <td>...</td>\n",
       "      <td>...</td>\n",
       "      <td>...</td>\n",
       "      <td>...</td>\n",
       "      <td>...</td>\n",
       "      <td>...</td>\n",
       "      <td>...</td>\n",
       "      <td>...</td>\n",
       "    </tr>\n",
       "    <tr>\n",
       "      <th>794</th>\n",
       "      <td>79</td>\n",
       "      <td>11</td>\n",
       "      <td>0</td>\n",
       "      <td>40.0</td>\n",
       "      <td>1/25/2020</td>\n",
       "      <td>1/25/2020</td>\n",
       "      <td>0</td>\n",
       "      <td>1.0</td>\n",
       "      <td>0</td>\n",
       "      <td>1</td>\n",
       "      <td>6</td>\n",
       "      <td>30</td>\n",
       "      <td>22</td>\n",
       "      <td>12</td>\n",
       "      <td>3</td>\n",
       "      <td>1</td>\n",
       "    </tr>\n",
       "    <tr>\n",
       "      <th>795</th>\n",
       "      <td>4</td>\n",
       "      <td>5</td>\n",
       "      <td>1</td>\n",
       "      <td>33.0</td>\n",
       "      <td>NaN</td>\n",
       "      <td>NaN</td>\n",
       "      <td>0</td>\n",
       "      <td>0.0</td>\n",
       "      <td>0</td>\n",
       "      <td>0</td>\n",
       "      <td>19</td>\n",
       "      <td>5</td>\n",
       "      <td>15</td>\n",
       "      <td>3</td>\n",
       "      <td>0</td>\n",
       "      <td>1</td>\n",
       "    </tr>\n",
       "    <tr>\n",
       "      <th>796</th>\n",
       "      <td>4</td>\n",
       "      <td>5</td>\n",
       "      <td>2</td>\n",
       "      <td>NaN</td>\n",
       "      <td>NaN</td>\n",
       "      <td>NaN</td>\n",
       "      <td>0</td>\n",
       "      <td>0.0</td>\n",
       "      <td>0</td>\n",
       "      <td>0</td>\n",
       "      <td>14</td>\n",
       "      <td>30</td>\n",
       "      <td>22</td>\n",
       "      <td>12</td>\n",
       "      <td>3</td>\n",
       "      <td>1</td>\n",
       "    </tr>\n",
       "    <tr>\n",
       "      <th>797</th>\n",
       "      <td>4</td>\n",
       "      <td>5</td>\n",
       "      <td>2</td>\n",
       "      <td>NaN</td>\n",
       "      <td>NaN</td>\n",
       "      <td>NaN</td>\n",
       "      <td>0</td>\n",
       "      <td>0.0</td>\n",
       "      <td>0</td>\n",
       "      <td>0</td>\n",
       "      <td>14</td>\n",
       "      <td>30</td>\n",
       "      <td>22</td>\n",
       "      <td>12</td>\n",
       "      <td>3</td>\n",
       "      <td>1</td>\n",
       "    </tr>\n",
       "    <tr>\n",
       "      <th>798</th>\n",
       "      <td>4</td>\n",
       "      <td>5</td>\n",
       "      <td>2</td>\n",
       "      <td>NaN</td>\n",
       "      <td>NaN</td>\n",
       "      <td>NaN</td>\n",
       "      <td>0</td>\n",
       "      <td>0.0</td>\n",
       "      <td>0</td>\n",
       "      <td>0</td>\n",
       "      <td>14</td>\n",
       "      <td>30</td>\n",
       "      <td>22</td>\n",
       "      <td>12</td>\n",
       "      <td>3</td>\n",
       "      <td>1</td>\n",
       "    </tr>\n",
       "  </tbody>\n",
       "</table>\n",
       "<p>799 rows × 16 columns</p>\n",
       "</div>"
      ],
      "text/plain": [
       "     location  country  gender   age      sym_on    hosp_vis  vis_wuhan  \\\n",
       "0          74        3       1  66.0  01-03-2020  01-11-2020          1   \n",
       "1          71        3       0  56.0   1/15/2020   1/15/2020          0   \n",
       "2          98        3       1  46.0  01-04-2020   1/17/2020          0   \n",
       "3          85        3       0  60.0         NaN         NaN          1   \n",
       "4          85        3       1  58.0         NaN         NaN          0   \n",
       "..        ...      ...     ...   ...         ...         ...        ...   \n",
       "794        79       11       0  40.0   1/25/2020   1/25/2020          0   \n",
       "795         4        5       1  33.0         NaN         NaN          0   \n",
       "796         4        5       2   NaN         NaN         NaN          0   \n",
       "797         4        5       2   NaN         NaN         NaN          0   \n",
       "798         4        5       2   NaN         NaN         NaN          0   \n",
       "\n",
       "     from_wuhan  death  recov  symptom1  symptom2  symptom3  symptom4  \\\n",
       "0           0.0      1      0        14        30        22        12   \n",
       "1           1.0      1      0        14        30        22        12   \n",
       "2           1.0      1      0        14        30        22        12   \n",
       "3           0.0      1      0        14        30        22        12   \n",
       "4           0.0      1      0        14        30        22        12   \n",
       "..          ...    ...    ...       ...       ...       ...       ...   \n",
       "794         1.0      0      1         6        30        22        12   \n",
       "795         0.0      0      0        19         5        15         3   \n",
       "796         0.0      0      0        14        30        22        12   \n",
       "797         0.0      0      0        14        30        22        12   \n",
       "798         0.0      0      0        14        30        22        12   \n",
       "\n",
       "     symptom5  symptom6  \n",
       "0           3         1  \n",
       "1           3         1  \n",
       "2           3         1  \n",
       "3           3         1  \n",
       "4           3         1  \n",
       "..        ...       ...  \n",
       "794         3         1  \n",
       "795         0         1  \n",
       "796         3         1  \n",
       "797         3         1  \n",
       "798         3         1  \n",
       "\n",
       "[799 rows x 16 columns]"
      ]
     },
     "execution_count": 6,
     "metadata": {},
     "output_type": "execute_result"
    }
   ],
   "source": [
    "data"
   ]
  },
  {
   "cell_type": "code",
   "execution_count": 7,
   "metadata": {},
   "outputs": [],
   "source": [
    "#Get the no of days taken from symptoms observed to the hospital visit\n",
    "\n",
    "data['sym_on'] = pd.to_datetime(data['sym_on'])\n",
    "data['hosp_vis'] = pd.to_datetime(data['hosp_vis'])\n",
    "data['sym_on']= data['sym_on'].map(dt.datetime.toordinal)\n",
    "data['hosp_vis']= data['hosp_vis'].map(dt.datetime.toordinal)\n",
    "data['diff_sym_hos']= data['hosp_vis'] - data['sym_on']"
   ]
  },
  {
   "cell_type": "code",
   "execution_count": 8,
   "metadata": {},
   "outputs": [],
   "source": [
    "data = data.drop(['sym_on','hosp_vis'],axis=1)"
   ]
  },
  {
   "cell_type": "code",
   "execution_count": 9,
   "metadata": {},
   "outputs": [
    {
     "data": {
      "text/plain": [
       "location          int32\n",
       "country           int32\n",
       "gender            int32\n",
       "age             float64\n",
       "vis_wuhan         int64\n",
       "from_wuhan      float64\n",
       "death             int64\n",
       "recov             int64\n",
       "symptom1          int32\n",
       "symptom2          int32\n",
       "symptom3          int32\n",
       "symptom4          int32\n",
       "symptom5          int32\n",
       "symptom6          int32\n",
       "diff_sym_hos      int64\n",
       "dtype: object"
      ]
     },
     "execution_count": 9,
     "metadata": {},
     "output_type": "execute_result"
    }
   ],
   "source": [
    "data.dtypes"
   ]
  },
  {
   "cell_type": "code",
   "execution_count": 10,
   "metadata": {},
   "outputs": [],
   "source": [
    "#Get the data for number of death, recovered vs people from wuhan and people visited wuhan.\n",
    "\n",
    "\n",
    "def counter2(colname1,colname2):\n",
    "  colname1 = pd.Series(colname1)\n",
    "  colname2 = pd.Series(colname2)\n",
    "  count1 = 0\n",
    "  for i in range(min([colname1.size,colname2.size])):\n",
    "    if(colname1[i]==1 and colname2[i]==1):\n",
    "      count1 = count1+1\n",
    "  return count1\n",
    "\n",
    "def counter1(colname):\n",
    "  colname1 = pd.Series(colname)\n",
    "  count = 0\n",
    "  for i in range(colname1.size):\n",
    "    if(colname1[i]==1):\n",
    "      count = count+1\n",
    "  return count"
   ]
  },
  {
   "cell_type": "code",
   "execution_count": 11,
   "metadata": {},
   "outputs": [],
   "source": [
    "fwuh = counter1(data['from_wuhan'])\n",
    "vwuh = counter1(data['vis_wuhan'])\n"
   ]
  },
  {
   "cell_type": "code",
   "execution_count": 12,
   "metadata": {},
   "outputs": [
    {
     "name": "stdout",
     "output_type": "stream",
     "text": [
      "361\n",
      "68\n",
      "53\n"
     ]
    }
   ],
   "source": [
    "print(counter1(data['death']))\n",
    "print(counter2(data['from_wuhan'],data['death']))\n",
    "print(counter2(data['vis_wuhan'],data['death']))"
   ]
  },
  {
   "cell_type": "code",
   "execution_count": 13,
   "metadata": {},
   "outputs": [
    {
     "name": "stdout",
     "output_type": "stream",
     "text": [
      "141\n",
      "23\n",
      "32\n"
     ]
    }
   ],
   "source": [
    "print(counter1(data['recov']))\n",
    "print(counter2(data['from_wuhan'],data['recov']))\n",
    "print(counter2(data['vis_wuhan'],data['recov']))"
   ]
  },
  {
   "cell_type": "code",
   "execution_count": 14,
   "metadata": {},
   "outputs": [
    {
     "data": {
      "image/png": "[encoded data removed]",
      "text/plain": [
       "<Figure size 432x288 with 1 Axes>"
      ]
     },
     "metadata": {
      "needs_background": "light"
     },
     "output_type": "display_data"
    }
   ],
   "source": [
    "#Graphical representation of umber of death, recovered vs people from wuhan and people visited wuhan.\n",
    "import matplotlib.pyplot as plt\n",
    "\n",
    "plt.bar(['From Wuhan','Visiting Wuhan'],[counter2(data['death'],data['from_wuhan']),counter2(data['death'],data['vis_wuhan'])],color='green')\n",
    "plt.title('Patient Deaths')\n",
    "plt.xlabel('Patients\\' Native Place')\n",
    "plt.ylabel('Number of Deaths')\n",
    "plt.plot([counter2(data['death'],data['from_wuhan']),counter2(data['death'],data['vis_wuhan'])],color='red')\n",
    "plt.show()"
   ]
  },
  {
   "cell_type": "code",
   "execution_count": 15,
   "metadata": {},
   "outputs": [
    {
     "data": {
      "image/png": "[encoded data removed]",
      "text/plain": [
       "<Figure size 432x288 with 1 Axes>"
      ]
     },
     "metadata": {
      "needs_background": "light"
     },
     "output_type": "display_data"
    }
   ],
   "source": [
    "plt.bar(['From Wuhan','Visiting Wuhan'],[counter2(data['recov'],data['from_wuhan']),counter2(data['recov'],data['vis_wuhan'])],color='purple')\n",
    "plt.title('Recovered Patients')\n",
    "plt.xlabel('Patients\\' Native Place')\n",
    "plt.ylabel('Number of Patients Recovered')\n",
    "plt.plot([counter2(data['recov'],data['from_wuhan']),counter2(data['recov'],data['vis_wuhan'])],color='blue')\n",
    "plt.show()"
   ]
  },
  {
   "cell_type": "code",
   "execution_count": 16,
   "metadata": {},
   "outputs": [
    {
     "data": {
      "text/plain": [
       "location          0\n",
       "country           0\n",
       "gender            0\n",
       "age             104\n",
       "vis_wuhan         0\n",
       "from_wuhan        4\n",
       "death             0\n",
       "recov             0\n",
       "symptom1          0\n",
       "symptom2          0\n",
       "symptom3          0\n",
       "symptom4          0\n",
       "symptom5          0\n",
       "symptom6          0\n",
       "diff_sym_hos      0\n",
       "dtype: int64"
      ]
     },
     "execution_count": 16,
     "metadata": {},
     "output_type": "execute_result"
    }
   ],
   "source": [
    "data.isna().sum()"
   ]
  },
  {
   "cell_type": "code",
   "execution_count": 17,
   "metadata": {},
   "outputs": [],
   "source": [
    "#Isnull check\n",
    "data['age'] = data['age'].fillna(value=data['age'].mean())\n",
    "\n",
    "data['from_wuhan']=data['from_wuhan'].fillna(value=data['from_wuhan'].mode())"
   ]
  },
  {
   "cell_type": "code",
   "execution_count": 18,
   "metadata": {},
   "outputs": [],
   "source": [
    "for column in ['from_wuhan']:\n",
    "    data[column].fillna(data[column].mode()[0], inplace=True)"
   ]
  },
  {
   "cell_type": "code",
   "execution_count": 19,
   "metadata": {},
   "outputs": [],
   "source": [
    "#Assigning Input and Output parameters\n",
    "X = data[['location','country','gender','age','vis_wuhan','from_wuhan','symptom1','symptom2','symptom3','symptom4','symptom5','symptom6','diff_sym_hos']]\n",
    "Y = data['death']"
   ]
  },
  {
   "cell_type": "code",
   "execution_count": 20,
   "metadata": {},
   "outputs": [
    {
     "data": {
      "text/plain": [
       "location        0\n",
       "country         0\n",
       "gender          0\n",
       "age             0\n",
       "vis_wuhan       0\n",
       "from_wuhan      0\n",
       "death           0\n",
       "recov           0\n",
       "symptom1        0\n",
       "symptom2        0\n",
       "symptom3        0\n",
       "symptom4        0\n",
       "symptom5        0\n",
       "symptom6        0\n",
       "diff_sym_hos    0\n",
       "dtype: int64"
      ]
     },
     "execution_count": 20,
     "metadata": {},
     "output_type": "execute_result"
    }
   ],
   "source": [
    "data.isna().sum()"
   ]
  },
  {
   "cell_type": "code",
   "execution_count": 21,
   "metadata": {},
   "outputs": [],
   "source": [
    "#Scaling the input data\n",
    "from sklearn.preprocessing import StandardScaler\n",
    "StandardScalar = preprocessing.StandardScaler()\n",
    "scaled_X = StandardScalar.fit(X).transform(X)"
   ]
  },
  {
   "cell_type": "code",
   "execution_count": 22,
   "metadata": {},
   "outputs": [
    {
     "data": {
      "text/plain": [
       "['ModelScaling_object.sav']"
      ]
     },
     "execution_count": 22,
     "metadata": {},
     "output_type": "execute_result"
    }
   ],
   "source": [
    "#Creating the production pipeline object\n",
    "scalingfilename = \"ModelScaling_object.sav\"\n",
    "joblib.dump(StandardScalar,scalingfilename)"
   ]
  },
  {
   "cell_type": "code",
   "execution_count": 23,
   "metadata": {},
   "outputs": [
    {
     "data": {
      "text/plain": [
       "array([[ 0.44564124, -1.0829998 ,  0.39613518, ...,  0.05682165,\n",
       "         0.03539962,  2.70893403],\n",
       "       [ 0.33595831, -1.0829998 , -1.15539426, ...,  0.05682165,\n",
       "         0.03539962, -0.49586077],\n",
       "       [ 1.32310468, -1.0829998 ,  0.39613518, ...,  0.05682165,\n",
       "         0.03539962,  4.71193079],\n",
       "       ...,\n",
       "       [-2.11362712, -0.52919702,  1.94766461, ...,  0.05682165,\n",
       "         0.03539962, -0.49586077],\n",
       "       [-2.11362712, -0.52919702,  1.94766461, ...,  0.05682165,\n",
       "         0.03539962, -0.49586077],\n",
       "       [-2.11362712, -0.52919702,  1.94766461, ...,  0.05682165,\n",
       "         0.03539962, -0.49586077]])"
      ]
     },
     "execution_count": 23,
     "metadata": {},
     "output_type": "execute_result"
    }
   ],
   "source": [
    "scaled_X"
   ]
  },
  {
   "cell_type": "code",
   "execution_count": 24,
   "metadata": {},
   "outputs": [],
   "source": [
    "#Train Test Split\n",
    "from sklearn.model_selection import train_test_split\n",
    "X_train,X_test,Y_train,Y_test = train_test_split(scaled_X,Y,test_size=0.2,random_state = 100)"
   ]
  },
  {
   "cell_type": "code",
   "execution_count": 41,
   "metadata": {},
   "outputs": [],
   "source": [
    "#Defining the best hyperparameters with GridSearch CV\n",
    "from sklearn.model_selection import GridSearchCV\n",
    "from sklearn.ensemble import RandomForestClassifier\n",
    "\n",
    "def RandomForestBestParams(X,Y,nFolds):\n",
    "    n_estimators = [100, 200, 500, 1000, 2000]\n",
    "    n_jobs=[1,-1]\n",
    "    max_features=['auto','sqrt',None,'log2',0.9,0.2,1]\n",
    "    min_samples_leaf = [10,9,7,6,5,4,3,2,1]\n",
    "    params={'n_estimators': n_estimators,'n_jobs':n_jobs,'max_features':max_features,'min_samples_leaf':min_samples_leaf}\n",
    "    model = GridSearchCV(RandomForestClassifier(),params,cv=nFolds)\n",
    "    model.fit(X,Y)\n",
    "    return model.best_params_"
   ]
  },
  {
   "cell_type": "code",
   "execution_count": 42,
   "metadata": {},
   "outputs": [
    {
     "data": {
      "text/plain": [
       "{'max_features': 'log2',\n",
       " 'min_samples_leaf': 3,\n",
       " 'n_estimators': 1000,\n",
       " 'n_jobs': 1}"
      ]
     },
     "execution_count": 42,
     "metadata": {},
     "output_type": "execute_result"
    }
   ],
   "source": [
    "RandomForestBestParams(X_train,Y_train,2)"
   ]
  },
  {
   "cell_type": "code",
   "execution_count": 44,
   "metadata": {},
   "outputs": [
    {
     "data": {
      "text/plain": [
       "0.7496087636932708"
      ]
     },
     "execution_count": 44,
     "metadata": {},
     "output_type": "execute_result"
    }
   ],
   "source": [
    "#Build and fit the model with the hyper parameters we obtained\n",
    "model = RandomForestClassifier(max_features='log2',n_estimators=1000,n_jobs=1,min_samples_leaf=3,oob_score=True)\n",
    "model.fit(X_train,Y_train)\n",
    "model.oob_score_"
   ]
  },
  {
   "cell_type": "code",
   "execution_count": 48,
   "metadata": {},
   "outputs": [
    {
     "data": {
      "text/plain": [
       "['ModelClassification_object.sav']"
      ]
     },
     "execution_count": 48,
     "metadata": {},
     "output_type": "execute_result"
    }
   ],
   "source": [
    "#Creating the production pipeline object\n",
    "classifierfilename = \"ModelClassification_object.sav\"\n",
    "joblib.dump(model,classifierfilename)"
   ]
  },
  {
   "cell_type": "code",
   "execution_count": 46,
   "metadata": {},
   "outputs": [
    {
     "data": {
      "text/plain": [
       "array([0.18449506, 0.29151168, 0.03090493, 0.23969566, 0.03855335,\n",
       "       0.02687258, 0.06523796, 0.04060965, 0.01354678, 0.00209541,\n",
       "       0.        , 0.        , 0.06647695])"
      ]
     },
     "execution_count": 46,
     "metadata": {},
     "output_type": "execute_result"
    }
   ],
   "source": [
    "# gives an array of the features in numerical form giving their order of importance\n",
    "model.feature_importances_"
   ]
  },
  {
   "cell_type": "code",
   "execution_count": 39,
   "metadata": {},
   "outputs": [],
   "source": [
    "Prob = model.predict_proba"
   ]
  },
  {
   "cell_type": "code",
   "execution_count": 37,
   "metadata": {},
   "outputs": [
    {
     "data": {
      "text/plain": [
       "<bound method ForestClassifier.predict_proba of RandomForestClassifier(bootstrap=True, ccp_alpha=0.0, class_weight=None,\n",
       "                       criterion='gini', max_depth=None, max_features=None,\n",
       "                       max_leaf_nodes=None, max_samples=None,\n",
       "                       min_impurity_decrease=0.0, min_impurity_split=None,\n",
       "                       min_samples_leaf=3, min_samples_split=2,\n",
       "                       min_weight_fraction_leaf=0.0, n_estimators=100,\n",
       "                       n_jobs=-1, oob_score=True, random_state=None, verbose=0,\n",
       "                       warm_start=False)>"
      ]
     },
     "execution_count": 37,
     "metadata": {},
     "output_type": "execute_result"
    }
   ],
   "source": [
    "Prob"
   ]
  },
  {
   "cell_type": "code",
   "execution_count": 47,
   "metadata": {},
   "outputs": [
    {
     "name": "stdout",
     "output_type": "stream",
     "text": [
      "location        0.184495\n",
      "country         0.291512\n",
      "gender          0.030905\n",
      "age             0.239696\n",
      "vis_wuhan       0.038553\n",
      "from_wuhan      0.026873\n",
      "symptom1        0.065238\n",
      "symptom2        0.040610\n",
      "symptom3        0.013547\n",
      "symptom4        0.002095\n",
      "symptom5        0.000000\n",
      "symptom6        0.000000\n",
      "diff_sym_hos    0.066477\n",
      "dtype: float64\n"
     ]
    },
    {
     "data": {
      "text/plain": [
       "<matplotlib.axes._subplots.AxesSubplot at 0x1f365d45448>"
      ]
     },
     "execution_count": 47,
     "metadata": {},
     "output_type": "execute_result"
    },
    {
     "data": {
      "image/png": "[encoded data removed]",
      "text/plain": [
       "<Figure size 504x432 with 1 Axes>"
      ]
     },
     "metadata": {
      "needs_background": "light"
     },
     "output_type": "display_data"
    }
   ],
   "source": [
    "#Graphical representation to highlight the important features\n",
    "%matplotlib inline\n",
    "pd.Series(model.feature_importances_, index=X.columns)\n",
    "\n",
    "#from ipykernel import kernelapp as app\n",
    "\n",
    "feature_importances = pd.Series(model.feature_importances_, index=X.columns)\n",
    "print(feature_importances)\n",
    "feature_importances.sort_values(inplace=True)\n",
    "feature_importances.plot(kind='barh', figsize=(7,6))"
   ]
  },
  {
   "cell_type": "code",
   "execution_count": 31,
   "metadata": {},
   "outputs": [],
   "source": [
    "#Predicting the outcome.\n",
    "Y_predict = model.predict(X_test)"
   ]
  },
  {
   "cell_type": "code",
   "execution_count": 32,
   "metadata": {},
   "outputs": [
    {
     "data": {
      "text/plain": [
       "array([0, 0, 1, 1, 1, 1, 0, 0, 1, 0, 0, 0, 0, 0, 0, 1, 0, 1, 0, 0, 1, 0,\n",
       "       0, 0, 0, 0, 0, 0, 0, 0, 1, 0, 1, 0, 1, 1, 1, 1, 1, 0, 0, 1, 1, 1,\n",
       "       0, 0, 0, 1, 0, 0, 1, 1, 1, 0, 0, 1, 1, 0, 1, 0, 1, 1, 0, 0, 0, 1,\n",
       "       0, 0, 0, 0, 0, 1, 0, 0, 0, 1, 1, 0, 0, 1, 0, 1, 0, 1, 1, 0, 0, 0,\n",
       "       1, 0, 0, 0, 0, 1, 1, 1, 0, 0, 0, 0, 0, 0, 1, 0, 1, 1, 0, 1, 1, 0,\n",
       "       1, 0, 0, 0, 0, 1, 0, 0, 0, 0, 0, 0, 0, 0, 1, 0, 0, 0, 0, 0, 1, 0,\n",
       "       1, 0, 0, 1, 1, 1, 0, 1, 0, 1, 0, 0, 1, 0, 0, 0, 0, 0, 0, 0, 0, 1,\n",
       "       1, 0, 0, 0, 0, 0], dtype=int64)"
      ]
     },
     "execution_count": 32,
     "metadata": {},
     "output_type": "execute_result"
    }
   ],
   "source": [
    "Y_predict"
   ]
  },
  {
   "cell_type": "code",
   "execution_count": 33,
   "metadata": {},
   "outputs": [
    {
     "data": {
      "text/plain": [
       "array([[83, 12],\n",
       "       [20, 45]], dtype=int64)"
      ]
     },
     "execution_count": 33,
     "metadata": {},
     "output_type": "execute_result"
    }
   ],
   "source": [
    "#Evaluation Metrics for the classification model built.\n",
    "from sklearn.metrics import confusion_matrix\n",
    "confusion_matrix(Y_test,Y_predict)"
   ]
  },
  {
   "cell_type": "code",
   "execution_count": 34,
   "metadata": {},
   "outputs": [
    {
     "data": {
      "text/plain": [
       "0.8"
      ]
     },
     "execution_count": 34,
     "metadata": {},
     "output_type": "execute_result"
    }
   ],
   "source": [
    "from sklearn.metrics import accuracy_score\n",
    "accuracy_score(Y_test,Y_predict)"
   ]
  },
  {
   "cell_type": "code",
   "execution_count": 35,
   "metadata": {},
   "outputs": [
    {
     "name": "stdout",
     "output_type": "stream",
     "text": [
      "              precision    recall  f1-score   support\n",
      "\n",
      "    survived       0.81      0.87      0.84        95\n",
      "not-survived       0.79      0.69      0.74        65\n",
      "\n",
      "    accuracy                           0.80       160\n",
      "   macro avg       0.80      0.78      0.79       160\n",
      "weighted avg       0.80      0.80      0.80       160\n",
      "\n"
     ]
    }
   ],
   "source": [
    "from sklearn.metrics import classification_report\n",
    "target_names=['survived','not-survived']\n",
    "print(classification_report(Y_test, Y_predict, target_names=target_names))"
   ]
  },
  {
   "cell_type": "code",
   "execution_count": null,
   "metadata": {},
   "outputs": [],
   "source": []
  }
 ],
 "metadata": {
  "kernelspec": {
   "display_name": "Python 3",
   "language": "python",
   "name": "python3"
  },
  "language_info": {
   "codemirror_mode": {
    "name": "ipython",
    "version": 3
   },
   "file_extension": ".py",
   "mimetype": "text/x-python",
   "name": "python",
   "nbconvert_exporter": "python",
   "pygments_lexer": "ipython3",
   "version": "3.7.6"
  }
 },
 "nbformat": 4,
 "nbformat_minor": 4
}
